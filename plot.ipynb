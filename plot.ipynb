{
 "cells": [
  {
   "cell_type": "code",
   "execution_count": 53,
   "metadata": {},
   "outputs": [],
   "source": [
    "import matplotlib.pyplot as plt\n",
    "import numpy as np"
   ]
  },
  {
   "cell_type": "code",
   "execution_count": 54,
   "metadata": {},
   "outputs": [],
   "source": [
    "with open('results.csv', 'r') as f:\n",
    "    ls = f.readlines()\n",
    "\n",
    "with open('results2.csv', 'r') as f:\n",
    "    ls2 = f.readlines()\n",
    "\n",
    "with open('results_cor.csv', 'r') as f:\n",
    "    ls3 = f.readlines()\n",
    "\n",
    "with open('results_cid.csv', 'r') as f:\n",
    "    ls4 = f.readlines()\n",
    "\n",
    "with open('results2_corr.csv', 'r') as f:\n",
    "    ls5 = f.readlines()\n",
    "\n",
    "with open('results2_cid.csv', 'r') as f:\n",
    "    ls6 = f.readlines()"
   ]
  },
  {
   "cell_type": "code",
   "execution_count": 55,
   "metadata": {},
   "outputs": [],
   "source": [
    "del ls[0]\n",
    "del ls2[0]\n",
    "del ls3[0]\n",
    "del ls4[0]\n",
    "del ls5[0]\n",
    "del ls6[0]"
   ]
  },
  {
   "cell_type": "code",
   "execution_count": 56,
   "metadata": {},
   "outputs": [
    {
     "data": {
      "text/plain": [
       "['0.6200000000000001,Probability\\n',\n",
       " '0.5075000000000001,Probability\\n',\n",
       " '0.5325,Probability\\n',\n",
       " '0.595,Probability\\n',\n",
       " '0.5925,Probability\\n',\n",
       " '0.81,Probability\\n',\n",
       " '0.73,Probability\\n',\n",
       " '0.6425,Probability\\n',\n",
       " '0.605,Probability\\n',\n",
       " '0.645,Probability\\n',\n",
       " '0.62,Probability\\n',\n",
       " '0.6575,Probability\\n',\n",
       " '0.5475,Probability\\n',\n",
       " '0.5675,Probability\\n',\n",
       " '0.5425,Probability\\n',\n",
       " '0.6075,Probability\\n',\n",
       " '0.73,Probability\\n',\n",
       " '0.605,Probability\\n',\n",
       " '0.5225,Probability\\n',\n",
       " '0.6799999999999999,Probability\\n',\n",
       " '0.5075000000000001,Probability\\n',\n",
       " '0.625,Probability\\n',\n",
       " '0.5525,Probability\\n',\n",
       " '0.565,Probability\\n',\n",
       " '0.6175,Probability\\n',\n",
       " '0.51,Probability\\n',\n",
       " '0.61,Probability\\n',\n",
       " '0.6300000000000001,Probability\\n',\n",
       " '0.51,Probability\\n',\n",
       " '0.5625,Probability\\n',\n",
       " '0.5449999999999999,Probability\\n',\n",
       " '0.8550000000000001,Probability\\n',\n",
       " '0.5375000000000001,Probability\\n',\n",
       " '0.53,Probability\\n',\n",
       " '0.5875,Probability\\n',\n",
       " '0.5525,Probability\\n',\n",
       " '0.5375,Probability\\n',\n",
       " '0.5975,Probability\\n',\n",
       " '0.5925,Probability\\n',\n",
       " '0.6950000000000001,Probability\\n',\n",
       " '0.595,Probability\\n',\n",
       " '0.5775,Probability\\n',\n",
       " '0.57,Probability\\n',\n",
       " '0.56,Probability\\n',\n",
       " '0.525,Probability\\n',\n",
       " '0.5149999999999999,Probability\\n',\n",
       " '0.58,Probability\\n',\n",
       " '0.6625,Probability\\n',\n",
       " '0.5025,Probability\\n',\n",
       " '0.63,Probability\\n',\n",
       " '0.6725000000000001,Probability\\n',\n",
       " '0.53,Probability\\n',\n",
       " '0.625,Probability\\n',\n",
       " '0.6325000000000001,Probability\\n',\n",
       " '0.64,Probability\\n',\n",
       " '0.815,Probability\\n',\n",
       " '0.5625,Probability\\n',\n",
       " '0.5525,Probability\\n',\n",
       " '0.5725,Probability\\n',\n",
       " '0.7425,Probability\\n',\n",
       " '0.8400000000000001,Probability\\n',\n",
       " '0.5425,Probability\\n',\n",
       " '0.7775000000000001,Probability\\n',\n",
       " '0.5875,Probability\\n',\n",
       " '0.5700000000000001,Probability\\n',\n",
       " '0.5225000000000001,Probability\\n',\n",
       " '0.54,Probability\\n',\n",
       " '0.5425,Probability\\n',\n",
       " '0.56,Probability\\n',\n",
       " '0.5549999999999999,Probability\\n',\n",
       " '0.6025,Probability\\n',\n",
       " '0.56,Probability\\n',\n",
       " '0.5425,Probability\\n',\n",
       " '0.6325,Probability\\n',\n",
       " '0.665,Probability\\n',\n",
       " '0.5225,Probability\\n',\n",
       " '0.53,Probability\\n',\n",
       " '0.5625,Probability\\n',\n",
       " '0.55,Probability\\n',\n",
       " '0.6499999999999999,Probability\\n',\n",
       " '0.6225,Probability\\n',\n",
       " '0.5900000000000001,Probability\\n',\n",
       " '0.5449999999999999,Probability\\n',\n",
       " '0.54,Probability\\n',\n",
       " '0.505,Probability\\n',\n",
       " '0.5625,Probability\\n',\n",
       " '0.6,Probability\\n',\n",
       " '0.585,Probability\\n',\n",
       " '0.5750000000000001,Probability\\n',\n",
       " '0.565,Probability\\n',\n",
       " '0.54,Probability\\n',\n",
       " '0.61,Probability\\n',\n",
       " '0.6075,Probability\\n',\n",
       " '0.5925,Probability\\n',\n",
       " '0.5775,Probability\\n',\n",
       " '0.6675,Probability\\n',\n",
       " '0.6425,Probability\\n',\n",
       " '0.5900000000000001,Probability\\n',\n",
       " '0.63,Probability\\n',\n",
       " '0.5375,Probability\\n']"
      ]
     },
     "execution_count": 56,
     "metadata": {},
     "output_type": "execute_result"
    }
   ],
   "source": [
    "ls"
   ]
  },
  {
   "cell_type": "code",
   "execution_count": 57,
   "metadata": {},
   "outputs": [],
   "source": [
    "scores = [float(i.split(',')[0]) for i in ls]\n",
    "scores2 = [float(i.split(',')[0]) for i in ls2]\n",
    "scores3 = [float(i.split(',')[0]) for i in ls3]\n",
    "scores4 = [float(i.split(',')[0]) for i in ls4]\n",
    "scores5 = [float(i.split(',')[0]) for i in ls5]\n",
    "scores6 = [float(i.split(',')[0]) for i in ls6]"
   ]
  },
  {
   "cell_type": "code",
   "execution_count": 58,
   "metadata": {},
   "outputs": [
    {
     "data": {
      "text/plain": [
       "[0.6200000000000001,\n",
       " 0.5075000000000001,\n",
       " 0.5325,\n",
       " 0.595,\n",
       " 0.5925,\n",
       " 0.81,\n",
       " 0.73,\n",
       " 0.6425,\n",
       " 0.605,\n",
       " 0.645,\n",
       " 0.62,\n",
       " 0.6575,\n",
       " 0.5475,\n",
       " 0.5675,\n",
       " 0.5425,\n",
       " 0.6075,\n",
       " 0.73,\n",
       " 0.605,\n",
       " 0.5225,\n",
       " 0.6799999999999999,\n",
       " 0.5075000000000001,\n",
       " 0.625,\n",
       " 0.5525,\n",
       " 0.565,\n",
       " 0.6175,\n",
       " 0.51,\n",
       " 0.61,\n",
       " 0.6300000000000001,\n",
       " 0.51,\n",
       " 0.5625,\n",
       " 0.5449999999999999,\n",
       " 0.8550000000000001,\n",
       " 0.5375000000000001,\n",
       " 0.53,\n",
       " 0.5875,\n",
       " 0.5525,\n",
       " 0.5375,\n",
       " 0.5975,\n",
       " 0.5925,\n",
       " 0.6950000000000001,\n",
       " 0.595,\n",
       " 0.5775,\n",
       " 0.57,\n",
       " 0.56,\n",
       " 0.525,\n",
       " 0.5149999999999999,\n",
       " 0.58,\n",
       " 0.6625,\n",
       " 0.5025,\n",
       " 0.63,\n",
       " 0.6725000000000001,\n",
       " 0.53,\n",
       " 0.625,\n",
       " 0.6325000000000001,\n",
       " 0.64,\n",
       " 0.815,\n",
       " 0.5625,\n",
       " 0.5525,\n",
       " 0.5725,\n",
       " 0.7425,\n",
       " 0.8400000000000001,\n",
       " 0.5425,\n",
       " 0.7775000000000001,\n",
       " 0.5875,\n",
       " 0.5700000000000001,\n",
       " 0.5225000000000001,\n",
       " 0.54,\n",
       " 0.5425,\n",
       " 0.56,\n",
       " 0.5549999999999999,\n",
       " 0.6025,\n",
       " 0.56,\n",
       " 0.5425,\n",
       " 0.6325,\n",
       " 0.665,\n",
       " 0.5225,\n",
       " 0.53,\n",
       " 0.5625,\n",
       " 0.55,\n",
       " 0.6499999999999999,\n",
       " 0.6225,\n",
       " 0.5900000000000001,\n",
       " 0.5449999999999999,\n",
       " 0.54,\n",
       " 0.505,\n",
       " 0.5625,\n",
       " 0.6,\n",
       " 0.585,\n",
       " 0.5750000000000001,\n",
       " 0.565,\n",
       " 0.54,\n",
       " 0.61,\n",
       " 0.6075,\n",
       " 0.5925,\n",
       " 0.5775,\n",
       " 0.6675,\n",
       " 0.6425,\n",
       " 0.5900000000000001,\n",
       " 0.63,\n",
       " 0.5375]"
      ]
     },
     "execution_count": 58,
     "metadata": {},
     "output_type": "execute_result"
    }
   ],
   "source": [
    "scores"
   ]
  },
  {
   "cell_type": "code",
   "execution_count": 59,
   "metadata": {},
   "outputs": [
    {
     "data": {
      "image/png": "[encoded data removed]",
      "text/plain": [
       "<Figure size 432x288 with 1 Axes>"
      ]
     },
     "metadata": {
      "needs_background": "light"
     },
     "output_type": "display_data"
    }
   ],
   "source": [
    "plt.hist(scores, bins=35, label='base')\n",
    "plt.hist(scores2, bins=35,  label='cust')\n",
    "plt.hist(scores3, bins=35,  label='corr')\n",
    "plt.hist(scores4, bins=35,  label='cid')\n",
    "plt.hist(scores5, bins=35,  label='corr_cust')\n",
    "plt.hist(scores6, bins=35,  label='cid_cust')\n",
    "plt.legend()\n",
    "plt.show()"
   ]
  },
  {
   "cell_type": "code",
   "execution_count": 60,
   "metadata": {},
   "outputs": [
    {
     "data": {
      "text/plain": [
       "0.596825"
      ]
     },
     "execution_count": 60,
     "metadata": {},
     "output_type": "execute_result"
    }
   ],
   "source": [
    "np.mean(scores)"
   ]
  },
  {
   "cell_type": "code",
   "execution_count": 61,
   "metadata": {},
   "outputs": [
    {
     "data": {
      "text/plain": [
       "0.7012378640776701"
      ]
     },
     "execution_count": 61,
     "metadata": {},
     "output_type": "execute_result"
    }
   ],
   "source": [
    "np.mean(scores2)"
   ]
  },
  {
   "cell_type": "code",
   "execution_count": 62,
   "metadata": {},
   "outputs": [
    {
     "data": {
      "text/plain": [
       "0.6125000000000002"
      ]
     },
     "execution_count": 62,
     "metadata": {},
     "output_type": "execute_result"
    }
   ],
   "source": [
    "np.mean(scores3)"
   ]
  },
  {
   "cell_type": "code",
   "execution_count": 63,
   "metadata": {},
   "outputs": [
    {
     "data": {
      "text/plain": [
       "0.6432474226804124"
      ]
     },
     "execution_count": 63,
     "metadata": {},
     "output_type": "execute_result"
    }
   ],
   "source": [
    "np.mean(scores4)"
   ]
  },
  {
   "cell_type": "code",
   "execution_count": 64,
   "metadata": {},
   "outputs": [
    {
     "data": {
      "text/plain": [
       "0.587747524752475"
      ]
     },
     "execution_count": 64,
     "metadata": {},
     "output_type": "execute_result"
    }
   ],
   "source": [
    "np.mean(scores5)"
   ]
  },
  {
   "cell_type": "code",
   "execution_count": 67,
   "metadata": {},
   "outputs": [
    {
     "data": {
      "text/plain": [
       "0.6885272277227723"
      ]
     },
     "execution_count": 67,
     "metadata": {},
     "output_type": "execute_result"
    }
   ],
   "source": [
    "np.mean(scores6)"
   ]
  },
  {
   "cell_type": "code",
   "execution_count": null,
   "metadata": {},
   "outputs": [],
   "source": []
  }
 ],
 "metadata": {
  "kernelspec": {
   "display_name": "Python 3.9.12 ('deep')",
   "language": "python",
   "name": "python3"
  },
  "language_info": {
   "codemirror_mode": {
    "name": "ipython",
    "version": 3
   },
   "file_extension": ".py",
   "mimetype": "text/x-python",
   "name": "python",
   "nbconvert_exporter": "python",
   "pygments_lexer": "ipython3",
   "version": "3.9.12"
  },
  "orig_nbformat": 4,
  "vscode": {
   "interpreter": {
    "hash": "6a2a3a3af096816301c7178121b9f28748e16a7be369f0d245d4beffb3ebaa12"
   }
  }
 },
 "nbformat": 4,
 "nbformat_minor": 2
}
