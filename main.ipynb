{
 "cells": [
  {
   "cell_type": "code",
   "execution_count": 1,
   "metadata": {},
   "outputs": [],
   "source": [
    "import matplotlib.pyplot as plt"
   ]
  },
  {
   "cell_type": "code",
   "execution_count": 3,
   "metadata": {},
   "outputs": [],
   "source": [
    "with open('results.txt', 'r') as f:\n",
    "    ls = f.readlines()"
   ]
  },
  {
   "cell_type": "code",
   "execution_count": 7,
   "metadata": {},
   "outputs": [],
   "source": [
    "base = [float(x.split('\\t')[0].split(' ')[1]) for x in ls]"
   ]
  },
  {
   "cell_type": "code",
   "execution_count": 9,
   "metadata": {},
   "outputs": [
    {
     "data": {
      "text/plain": [
       "['b: 0.9146960377693176\\tc: 0.5380963087081909\\n',\n",
       " 'b: 0.8654254674911499\\tc: 0.535519540309906\\n',\n",
       " 'b: 0.8437309265136719\\tc: 0.5801364183425903\\n',\n",
       " 'b: 0.9886449575424194\\tc: 0.5431677103042603\\n',\n",
       " 'b: 0.8919664621353149\\tc: 0.5573661923408508\\n',\n",
       " 'b: 0.9253514409065247\\tc: 0.9935318231582642\\n',\n",
       " 'b: 0.8843372464179993\\tc: 0.5865628719329834\\n',\n",
       " 'b: 0.8385517001152039\\tc: 0.6037309765815735\\n',\n",
       " 'b: 0.977245032787323\\tc: 0.5579062104225159\\n',\n",
       " 'b: 0.9183804392814636\\tc: 0.9970070719718933\\n',\n",
       " 'b: 0.8207986950874329\\tc: 0.8038264513015747\\n',\n",
       " 'b: 0.8680219650268555\\tc: 0.7650807499885559\\n',\n",
       " 'b: 0.8825777173042297\\tc: 0.7027987837791443\\n',\n",
       " 'b: 0.9207507371902466\\tc: 0.9963973164558411\\n',\n",
       " 'b: 0.7285169363021851\\tc: 0.6114832162857056\\n',\n",
       " 'b: 0.9732714891433716\\tc: 0.5788933038711548\\n',\n",
       " 'b: 0.8881857991218567\\tc: 0.9974249601364136\\n',\n",
       " 'b: 0.8987137079238892\\tc: 0.998377799987793\\n',\n",
       " 'b: 0.8223971128463745\\tc: 0.5693395733833313\\n',\n",
       " 'b: 0.7563821077346802\\tc: 0.9982007741928101\\n',\n",
       " 'b: 0.8532801866531372\\tc: 0.9968372583389282\\n',\n",
       " 'b: 0.8258687257766724\\tc: 0.655876636505127\\n',\n",
       " 'b: 0.8828275799751282\\tc: 0.9987565279006958\\n',\n",
       " 'b: 0.8883752822875977\\tc: 0.9974139928817749\\n',\n",
       " 'b: 0.8347433805465698\\tc: 0.5484200716018677\\n',\n",
       " 'b: 0.8879495859146118\\tc: 0.9171333312988281\\n',\n",
       " 'b: 0.8573234677314758\\tc: 0.6223104000091553\\n',\n",
       " 'b: 0.8108887672424316\\tc: 0.6568568348884583\\n',\n",
       " 'b: 0.891750156879425\\tc: 0.5702452063560486\\n',\n",
       " 'b: 0.8671636581420898\\tc: 0.9929319620132446\\n',\n",
       " 'b: 0.8939734697341919\\tc: 0.9974093437194824\\n',\n",
       " 'b: 0.8491321802139282\\tc: 0.9983418583869934\\n',\n",
       " 'b: 0.9464052319526672\\tc: 0.9987224340438843\\n',\n",
       " 'b: 0.7771440744400024\\tc: 0.9977258443832397\\n',\n",
       " 'b: 0.6897039413452148\\tc: 0.6062097549438477\\n',\n",
       " 'b: 0.6833710670471191\\tc: 0.9963618516921997\\n',\n",
       " 'b: 0.8467674255371094\\tc: 0.585084080696106\\n',\n",
       " 'b: 0.8883777856826782\\tc: 0.9981910586357117\\n',\n",
       " 'b: 0.9324119687080383\\tc: 0.6487438082695007\\n',\n",
       " 'b: 0.8651533126831055\\tc: 0.622783362865448\\n',\n",
       " 'b: 0.8823648691177368\\tc: 0.9921406507492065\\n',\n",
       " 'b: 0.7236123085021973\\tc: 0.7490293979644775\\n',\n",
       " 'b: 0.8608829379081726\\tc: 0.9741768836975098\\n',\n",
       " 'b: 0.7646678686141968\\tc: 0.9977096319198608\\n',\n",
       " 'b: 0.7535371780395508\\tc: 0.5832958817481995\\n',\n",
       " 'b: 0.8935006260871887\\tc: 0.546794056892395\\n',\n",
       " 'b: 0.8870193362236023\\tc: 0.9980791211128235\\n',\n",
       " 'b: 0.8816625475883484\\tc: 0.9975767135620117\\n',\n",
       " 'b: 0.6113250851631165\\tc: 0.9976847767829895\\n',\n",
       " 'b: 0.9659185409545898\\tc: 0.5581269860267639\\n',\n",
       " 'b: 0.9099394083023071\\tc: 0.5682126879692078\\n',\n",
       " 'b: 0.894984245300293\\tc: 0.5735903978347778\\n',\n",
       " 'b: 0.9007660746574402\\tc: 0.5555687546730042\\n',\n",
       " 'b: 0.8448236584663391\\tc: 0.7640542984008789\\n',\n",
       " 'b: 0.8863328695297241\\tc: 0.9981318712234497\\n',\n",
       " 'b: 0.8539352416992188\\tc: 0.5425463914871216\\n',\n",
       " 'b: 0.9009577035903931\\tc: 0.5621033906936646\\n',\n",
       " 'b: 0.850842297077179\\tc: 0.9984374046325684\\n',\n",
       " 'b: 0.8093662261962891\\tc: 0.5655525922775269\\n',\n",
       " 'b: 0.8796125650405884\\tc: 0.5828331112861633\\n',\n",
       " 'b: 0.899206280708313\\tc: 0.5362132787704468\\n',\n",
       " 'b: 0.925427258014679\\tc: 0.7437989115715027\\n',\n",
       " 'b: 0.912420392036438\\tc: 0.9969226717948914\\n',\n",
       " 'b: 0.8820099830627441\\tc: 0.571755051612854\\n',\n",
       " 'b: 0.8906288146972656\\tc: 0.5661338567733765\\n',\n",
       " 'b: 0.8745599985122681\\tc: 0.5690237283706665\\n',\n",
       " 'b: 0.8913432359695435\\tc: 0.5603090524673462\\n',\n",
       " 'b: 0.8878685235977173\\tc: 0.9949487447738647\\n',\n",
       " 'b: 0.6899195313453674\\tc: 0.7389351725578308\\n',\n",
       " 'b: 0.8725711703300476\\tc: 0.5493497848510742\\n',\n",
       " 'b: 0.7897742986679077\\tc: 0.997728168964386\\n',\n",
       " 'b: 0.8940011262893677\\tc: 0.9979475140571594\\n',\n",
       " 'b: 0.8408209085464478\\tc: 0.7234042882919312\\n',\n",
       " 'b: 0.8402764201164246\\tc: 0.9980300664901733\\n',\n",
       " 'b: 0.9406673312187195\\tc: 0.5982192754745483\\n',\n",
       " 'b: 0.8800362348556519\\tc: 0.6342841386795044\\n',\n",
       " 'b: 0.9812334179878235\\tc: 0.5875118970870972\\n',\n",
       " 'b: 0.8025485873222351\\tc: 0.9976016879081726\\n',\n",
       " 'b: 0.6420704126358032\\tc: 0.5945418477058411\\n',\n",
       " 'b: 0.870319664478302\\tc: 0.5412410497665405\\n',\n",
       " 'b: 0.8085609674453735\\tc: 0.9968529939651489\\n',\n",
       " 'b: 0.8738139867782593\\tc: 0.5773016810417175\\n',\n",
       " 'b: 0.8916837573051453\\tc: 0.5614832043647766\\n',\n",
       " 'b: 0.8742740750312805\\tc: 0.5577243566513062\\n',\n",
       " 'b: 0.8851348757743835\\tc: 0.9972793459892273\\n',\n",
       " 'b: 0.8641763925552368\\tc: 0.6122756004333496\\n',\n",
       " 'b: 0.8958500623703003\\tc: 0.664100706577301\\n',\n",
       " 'b: 0.8639192581176758\\tc: 0.9987584948539734\\n',\n",
       " 'b: 0.8838291168212891\\tc: 0.5803350210189819\\n',\n",
       " 'b: 0.8995637893676758\\tc: 0.99806147813797\\n',\n",
       " 'b: 0.902370810508728\\tc: 0.8018003702163696\\n',\n",
       " 'b: 0.9642888307571411\\tc: 0.9981099963188171\\n',\n",
       " 'b: 0.9877873659133911\\tc: 0.5414561629295349\\n',\n",
       " 'b: 0.8898218870162964\\tc: 0.5549023151397705\\n',\n",
       " 'b: 0.9008663296699524\\tc: 0.6161544919013977\\n',\n",
       " 'b: 0.8851092457771301\\tc: 0.9980597496032715\\n',\n",
       " 'b: 0.8572806119918823\\tc: 0.6086181402206421\\n',\n",
       " 'b: 0.9052038192749023\\tc: 0.9933856129646301\\n',\n",
       " 'b: 0.8824360966682434\\tc: 0.6995517015457153\\n',\n",
       " 'b: 0.9380938410758972\\tc: 0.6314111948013306\\n']"
      ]
     },
     "execution_count": 9,
     "metadata": {},
     "output_type": "execute_result"
    }
   ],
   "source": [
    "ls"
   ]
  },
  {
   "cell_type": "code",
   "execution_count": 10,
   "metadata": {},
   "outputs": [],
   "source": [
    "cust = [float(x.split(' ')[-1][:-2]) for x in ls]"
   ]
  },
  {
   "cell_type": "code",
   "execution_count": 19,
   "metadata": {},
   "outputs": [
    {
     "data": {
      "image/png": "[encoded data removed]",
      "text/plain": [
       "<Figure size 432x288 with 1 Axes>"
      ]
     },
     "metadata": {
      "needs_background": "light"
     },
     "output_type": "display_data"
    }
   ],
   "source": [
    "plt.hist(cust, bins=30, density=True, alpha=0.5, label='Custom')\n",
    "plt.hist(base, bins=30, density=True, alpha=0.5, label='Base')\n",
    "plt.xlabel('MSE')\n",
    "plt.ylabel('Density')\n",
    "plt.legend()\n",
    "plt.show()"
   ]
  },
  {
   "cell_type": "code",
   "execution_count": null,
   "metadata": {},
   "outputs": [],
   "source": []
  }
 ],
 "metadata": {
  "kernelspec": {
   "display_name": "Python 3.9.12 ('deep')",
   "language": "python",
   "name": "python3"
  },
  "language_info": {
   "codemirror_mode": {
    "name": "ipython",
    "version": 3
   },
   "file_extension": ".py",
   "mimetype": "text/x-python",
   "name": "python",
   "nbconvert_exporter": "python",
   "pygments_lexer": "ipython3",
   "version": "3.9.12"
  },
  "orig_nbformat": 4,
  "vscode": {
   "interpreter": {
    "hash": "6a2a3a3af096816301c7178121b9f28748e16a7be369f0d245d4beffb3ebaa12"
   }
  }
 },
 "nbformat": 4,
 "nbformat_minor": 2
}
